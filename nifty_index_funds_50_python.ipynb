{
  "nbformat": 4,
  "nbformat_minor": 0,
  "metadata": {
    "colab": {
      "name": "nifty index funds  50 - python",
      "provenance": [],
      "collapsed_sections": [],
      "toc_visible": true,
      "authorship_tag": "ABX9TyN3guVGdCJCt3dUNciDu2eD",
      "include_colab_link": true
    },
    "kernelspec": {
      "name": "python3",
      "display_name": "Python 3"
    }
  },
  "cells": [
    {
      "cell_type": "markdown",
      "metadata": {
        "id": "view-in-github",
        "colab_type": "text"
      },
      "source": [
        "<a href=\"https://colab.research.google.com/github/rituraj17/Deep-Learning/blob/master/nifty_index_funds_50_python.ipynb\" target=\"_parent\"><img src=\"https://colab.research.google.com/assets/colab-badge.svg\" alt=\"Open In Colab\"/></a>"
      ]
    },
    {
      "cell_type": "code",
      "metadata": {
        "id": "RuLxWEz2qnJH",
        "colab_type": "code",
        "colab": {}
      },
      "source": [
        "#pip3 install beautifulsoup4"
      ],
      "execution_count": 0,
      "outputs": []
    },
    {
      "cell_type": "code",
      "metadata": {
        "id": "jNskKW47qb45",
        "colab_type": "code",
        "colab": {}
      },
      "source": [
        "import requests\n",
        "from bs4 import BeautifulSoup"
      ],
      "execution_count": 0,
      "outputs": []
    },
    {
      "cell_type": "code",
      "metadata": {
        "id": "QQW3bU8xqh-w",
        "colab_type": "code",
        "colab": {}
      },
      "source": [
        "url_input=\"https://www.fincash.com/l/best-nifty-index-mutual-funds\"\n",
        "html_output=requests.get(url_input)\n",
        "soup = BeautifulSoup(html_output.content, 'html.parser')\n"
      ],
      "execution_count": 0,
      "outputs": []
    },
    {
      "cell_type": "code",
      "metadata": {
        "id": "AGc1CbRIvoZQ",
        "colab_type": "code",
        "colab": {}
      },
      "source": [
        "# print(soup.prettify())"
      ],
      "execution_count": 0,
      "outputs": []
    },
    {
      "cell_type": "code",
      "metadata": {
        "id": "k_gq0FgZwGFB",
        "colab_type": "code",
        "outputId": "64112d9f-5a7f-4b49-b5e2-51092646be8b",
        "colab": {
          "base_uri": "https://localhost:8080/",
          "height": 34
        }
      },
      "source": [
        "# TO find the title of the page \n",
        "soup.find(\"title\").text"
      ],
      "execution_count": 5,
      "outputs": [
        {
          "output_type": "execute_result",
          "data": {
            "text/plain": [
              "'Top 10 Best Performing Nifty Index Mutual Funds 2020 | Fincash.com'"
            ]
          },
          "metadata": {
            "tags": []
          },
          "execution_count": 5
        }
      ]
    },
    {
      "cell_type": "code",
      "metadata": {
        "id": "xIwm-TV8HmSR",
        "colab_type": "code",
        "outputId": "f73b5051-f54e-4b2c-c916-913b1d4f6b45",
        "colab": {
          "base_uri": "https://localhost:8080/",
          "height": 34
        }
      },
      "source": [
        "# method to extract the  heading of list or index of the points\n",
        "(soup.find(\"div\",class_=\"fund-grid-container dashed ng-star-inserted\")).find(\"h3\").text"
      ],
      "execution_count": 6,
      "outputs": [
        {
          "output_type": "execute_result",
          "data": {
            "text/plain": [
              "'1. Principal Nifty 100 Equal Weight Fund'"
            ]
          },
          "metadata": {
            "tags": []
          },
          "execution_count": 6
        }
      ]
    },
    {
      "cell_type": "code",
      "metadata": {
        "id": "pRh4QKa82KSR",
        "colab_type": "code",
        "outputId": "f74c000f-4e7e-4bc7-96b6-ac5192ec14e9",
        "colab": {
          "base_uri": "https://localhost:8080/",
          "height": 54
        }
      },
      "source": [
        "# Description of the points \n",
        "(soup.find(\"div\",class_=\"fund-grid-container dashed ng-star-inserted\")).find(\"p\", class_=\"bq-class\").text"
      ],
      "execution_count": 7,
      "outputs": [
        {
          "output_type": "execute_result",
          "data": {
            "text/plain": [
              "' Principal Nifty 100 Equal Weight Fund is a Others - Index Fund fund was launched on 27 Jul 99. It is a fund with Moderately High risk and has given a CAGR/Annualized return of  since its launch. \\xa0Ranked 72 in Index Fund category.  \\xa0Return for 2019 was 2.8% , 2018 was -3.4% and 2017 was 28.9% . '"
            ]
          },
          "metadata": {
            "tags": []
          },
          "execution_count": 7
        }
      ]
    },
    {
      "cell_type": "code",
      "metadata": {
        "id": "NDpmsMp634Os",
        "colab_type": "code",
        "outputId": "71e96fd5-dba3-425e-f38c-82ff229fc934",
        "colab": {
          "base_uri": "https://localhost:8080/",
          "height": 34
        }
      },
      "source": [
        "(soup.find(\"div\",class_=\"fund-grid-container dashed ng-star-inserted\")).find(\"p\", class_=\"light-bold\").text"
      ],
      "execution_count": 8,
      "outputs": [
        {
          "output_type": "execute_result",
          "data": {
            "text/plain": [
              "' Below is the key information for Principal Nifty 100 Equal Weight Fund '"
            ]
          },
          "metadata": {
            "tags": []
          },
          "execution_count": 8
        }
      ]
    },
    {
      "cell_type": "code",
      "metadata": {
        "id": "RuNjUPVh34Mc",
        "colab_type": "code",
        "outputId": "8c0dc4ee-1b2a-406c-956c-d0f620128337",
        "colab": {
          "base_uri": "https://localhost:8080/",
          "height": 54
        }
      },
      "source": [
        "(soup.find(\"div\",class_=\"fund-grid-container dashed ng-star-inserted\")).find(\"table\", class_=\"fund-table-grid border basicData float-left\")"
      ],
      "execution_count": 9,
      "outputs": [
        {
          "output_type": "execute_result",
          "data": {
            "text/plain": [
              "<table class=\"fund-table-grid border basicData float-left\"><tbody><!-- --><!-- --><!-- --><tr class=\"dgray-txt white-back-imp ng-star-inserted\"><td colspan=\"2\"><!-- --><a class=\"ng-star-inserted\" href=\"/l/mutual-funds/principal-nifty-100-equal-weight-fund\">Principal Nifty 100 Equal Weight Fund</a><!-- --><br/><span class=\"txt-lh-11\"> Growth </span></td></tr><!-- --><tr class=\"ng-star-inserted\"><!-- --><!-- --><td class=\"ng-star-inserted\">Launch Date </td><!-- --><!-- --><td class=\"ng-star-inserted\"><!-- --><!-- --><!-- --><!-- --><!-- --><!-- --><!-- --><!-- --><!-- --><!-- --><!-- --><!-- --><!-- --><!-- --><!-- --><!-- --><!-- --> 27 Jul 99 <!-- --><!-- --><!-- --></td></tr><tr class=\"ng-star-inserted\"><!-- --><!-- --><td class=\"ng-star-inserted\">NAV (29 Apr 20) </td><!-- --><!-- --><td class=\"ng-star-inserted\"><!-- --><!-- --><!-- --> ₹56.6431 <!-- --><!-- --><!-- --><span class=\"txt-lh-11 success ng-star-inserted\"> ↑ 0.86   (1.54 %) </span><!-- --><!-- --><!-- --><!-- --><!-- --><!-- --><!-- --><!-- --><!-- --><!-- --></td></tr><tr class=\"ng-star-inserted\"><!-- --><!-- --><td class=\"ng-star-inserted\">Net Assets (Cr) </td><!-- --><!-- --><td class=\"ng-star-inserted\"><!-- --><!-- --><!-- --><!-- --> ₹12 on 31 Mar 20 <!-- --><!-- --><!-- --><!-- --><!-- --><!-- --><!-- --><!-- --></td></tr><tr class=\"ng-star-inserted\"><!-- --><!-- --><td class=\"ng-star-inserted\">Category </td><!-- --><!-- --><td class=\"ng-star-inserted\"><!-- --><!-- --><!-- --><!-- --><!-- --><!-- --><!-- --><!-- --><span class=\"ng-star-inserted\">Others <!-- --><!-- -->- Index Fund</span><!-- --><!-- --><!-- --><!-- --></td></tr><tr class=\"ng-star-inserted\"><!-- --><!-- --><td class=\"ng-star-inserted\">AMC </td><!-- --><!-- --><td class=\"ng-star-inserted\"><!-- --><!-- --><!-- --><!-- --><!-- --><!-- --><!-- --><!-- --><!-- --><!-- --><!-- --><!-- --><!-- --><!-- --><!-- --><!-- --><!-- --><!-- --> Principal Pnb Asset Mgmt. Co. Priv. Ltd. <!-- --><!-- --></td></tr><tr class=\"ng-star-inserted\"><!-- --><!-- --><td class=\"ng-star-inserted\">Rating </td><!-- --><!-- --><td class=\"ng-star-inserted\"><!-- --><!-- --><!-- --><!-- --><!-- --><span class=\"ng-star-inserted\"><span class=\"yellow\">☆</span><span class=\"yellow\">☆</span></span><!-- --><!-- --><!-- --><!-- --><!-- --><!-- --><!-- --></td></tr><tr class=\"ng-star-inserted\"><!-- --><!-- --><td class=\"ng-star-inserted\">Risk </td><!-- --><!-- --><td class=\"ng-star-inserted\"><!-- --><!-- --><!-- --><!-- --><!-- --><!-- --><span class=\"ng-star-inserted\">Moderately High</span><!-- --><!-- --><!-- --><!-- --><!-- --><!-- --></td></tr><tr class=\"ng-star-inserted\"><!-- --><!-- --><td class=\"ng-star-inserted\">Expense Ratio </td><!-- --><!-- --><td class=\"ng-star-inserted\"><!-- --><!-- --><!-- --><!-- --><!-- --><!-- --><!-- --><!-- --><!-- --><!-- --><!-- --><!-- --><!-- --><!-- --><!-- --><!-- --><!-- --><!-- -->0.9<!-- --><!-- --><!-- --><!-- --><!-- --></td></tr><tr class=\"ng-star-inserted\"><!-- --><!-- --><td class=\"ng-star-inserted\">Sharpe Ratio </td><!-- --><!-- --><td class=\"ng-star-inserted\"><!-- --><!-- --><!-- --><!-- --><!-- --><!-- --><!-- --><!-- --><!-- --><!-- --><!-- --><!-- --><!-- --><!-- --><!-- --><!-- --><!-- --><!-- -->-1.36<!-- --><!-- --><!-- --><!-- --><!-- --></td></tr><tr class=\"ng-star-inserted\"><!-- --><!-- --><td class=\"ng-star-inserted\">Information Ratio </td><!-- --><!-- --><td class=\"ng-star-inserted\"><!-- --><!-- --><!-- --><!-- --><!-- --><!-- --><!-- --><!-- --><!-- --><!-- --><!-- --><!-- --><!-- --><!-- --><!-- --><!-- --><!-- --><!-- -->0<!-- --><!-- --><!-- --><!-- --><!-- --></td></tr><tr class=\"ng-star-inserted\"><!-- --><!-- --><td class=\"ng-star-inserted\">Alpha Ratio </td><!-- --><!-- --><td class=\"ng-star-inserted\"><!-- --><!-- --><!-- --><!-- --><!-- --><!-- --><!-- --><!-- --><!-- --><!-- --><!-- --><!-- --><!-- --><!-- --><!-- --><!-- --><!-- --><!-- -->0<!-- --><!-- --><!-- --><!-- --><!-- --></td></tr><tr class=\"ng-star-inserted\"><!-- --><!-- --><td class=\"ng-star-inserted\">Min Investment </td><!-- --><!-- --><td class=\"ng-star-inserted\"><!-- --><!-- --><!-- --><!-- --><!-- --><!-- --><!-- --><!-- --><!-- --><!-- --><!-- --><!-- --><!-- --><!-- --><!-- --> 5,000 <!-- --><!-- --><!-- --><!-- --><!-- --></td></tr><tr class=\"ng-star-inserted\"><!-- --><!-- --><td class=\"ng-star-inserted\">Min SIP Investment </td><!-- --><!-- --><td class=\"ng-star-inserted\"><!-- --><!-- --><!-- --><!-- --><!-- --><!-- --><!-- --><!-- --><!-- --><!-- --><!-- --><!-- --><!-- --><!-- --><!-- --> 500 <!-- --><!-- --><!-- --><!-- --><!-- --></td></tr><tr class=\"ng-star-inserted\"><!-- --><!-- --><td class=\"ng-star-inserted\">Exit Load </td><!-- --><!-- --><td class=\"ng-star-inserted\"><!-- --><!-- --><!-- --><!-- --><!-- --><!-- --><!-- --><!-- --><!-- --><!-- --><!-- --><!-- --><!-- --><!-- --><!-- --><!-- --><!-- --><!-- --> 0-90 Days (1%),90 Days and above(NIL) <!-- --><!-- --></td></tr><tr class=\"ng-star-inserted\"><!-- --><!-- --></tr><tr class=\"ng-star-inserted\"><!-- --><!-- --></tr><tr class=\"ng-star-inserted\"><!-- --><!-- --></tr></tbody></table>"
            ]
          },
          "metadata": {
            "tags": []
          },
          "execution_count": 9
        }
      ]
    },
    {
      "cell_type": "code",
      "metadata": {
        "id": "haYhvAQpj5To",
        "colab_type": "code",
        "colab": {}
      },
      "source": [
        "x1=soup.find(\"div\",class_=\"width-100 ng-star-inserted\").findAll(\"div\",class_=\"fund-grid-container dashed ng-star-inserted\")"
      ],
      "execution_count": 0,
      "outputs": []
    },
    {
      "cell_type": "code",
      "metadata": {
        "id": "xm0ZWifovh39",
        "colab_type": "code",
        "colab": {}
      },
      "source": [
        "def remove_unwanted(data_value):\n",
        "  xyz=list(set(data_value))\n",
        "  xyz.sort()\n",
        "  xyz.pop(0)\n",
        "  return xyz[0]\n",
        "\n",
        "\n",
        "for pq in x1[:1]:\n",
        "  s1={}\n",
        "\n",
        "  title=pq.find(\"h3\").text\n",
        "  s1[\"title\"]=title\n",
        "\n",
        "  # Descrbtion of the points \n",
        "  desc=pq.find(\"p\", class_=\"bq-class\").text"
      ],
      "execution_count": 0,
      "outputs": []
    },
    {
      "cell_type": "code",
      "metadata": {
        "id": "VP4gXGtovoBO",
        "colab_type": "code",
        "colab": {}
      },
      "source": [
        "  # for  growth table \n",
        "x1=soup.find(\"div\",class_=\"width-100 ng-star-inserted\").findAll(\"div\",class_=\"fund-grid-container dashed ng-star-inserted\")\n",
        "\n",
        "def growth_table(data_input):\n",
        "  for pq in data_input[:1]:\n",
        "    s1={}\n",
        "    grow1=pq.find(\"app-fund-data-growth-10k\",class_=\"ng-star-inserted\").find(\"div\",class_=\"fund-grid-container no-pad ng-star-inserted\")\n",
        "    grow1_table=grow1.find(\"table\",class_=\"fund-table-grid-ret no-row-diff basicData float-right\")\n",
        "    grow1_table_header=grow1_table.find(\"thead\")\n",
        "    data = [[td.findChildren(text=True) for td in tr.findAll(\"th\")] for tr in grow1_table_header]\n",
        "    header_value=[]\n",
        "    for i in data[0]:\n",
        "      header_value.append(i[0])\n",
        "    # print(header_value)\n",
        "\n",
        "    table_data=grow1_table.find(\"tbody\")\n",
        "    rows=table_data.findAll('tr',class_='ng-star-inserted')\n",
        "    data_output=[]\n",
        "    for tr in rows:\n",
        "      i=0\n",
        "      x=[]\n",
        "      for td in tr.findAll(\"td\"):\n",
        "        x.append(td.findChildren(text=True))\n",
        "      data_output.append(x)\n",
        "    \n",
        "    table_Data_list=[]\n",
        "    for i in data_output:\n",
        "      s1={}\n",
        "      if len(i)!=0:\n",
        "        s1[header_value[0]]=i[0][0].strip()\n",
        "        if i[1][0]==' ':\n",
        "          s1[header_value[1]]=None\n",
        "        else:\n",
        "          s1[header_value[1]]=i[1][0].strip()\n",
        "        \n",
        "      table_Data_list.append(s1)\n",
        "  return table_Data_list"
      ],
      "execution_count": 0,
      "outputs": []
    },
    {
      "cell_type": "code",
      "metadata": {
        "id": "XU-ku40_Pidm",
        "colab_type": "code",
        "outputId": "fd452e4b-23f8-42b9-92a9-4660e5ee9ddc",
        "colab": {
          "base_uri": "https://localhost:8080/",
          "height": 54
        }
      },
      "source": [
        "x1=soup.find(\"div\",class_=\"width-100 ng-star-inserted\").findAll(\"div\",class_=\"fund-grid-container dashed ng-star-inserted\")\n",
        "\n",
        "for t1 in x1[:1]:\n",
        "  print(growth_table([t1]))"
      ],
      "execution_count": 13,
      "outputs": [
        {
          "output_type": "stream",
          "text": [
            "[{'Date': '31 Mar 15', 'Value': '₹10,000'}, {'Date': '31 Mar 16', 'Value': '₹9,146'}, {'Date': '31 Mar 17', 'Value': '₹10,861'}, {'Date': '31 Mar 18', 'Value': '₹12,009'}, {'Date': '31 Mar 19', 'Value': '₹12,451'}, {'Date': '31 Mar 20', 'Value': '₹8,714'}]\n"
          ],
          "name": "stdout"
        }
      ]
    },
    {
      "cell_type": "code",
      "metadata": {
        "id": "Divh1m9sj5Q_",
        "colab_type": "code",
        "outputId": "64cad658-bf84-4ddc-b46c-e2a3feddec59",
        "colab": {
          "base_uri": "https://localhost:8080/",
          "height": 153
        }
      },
      "source": [
        "# return table\n",
        "x1=soup.find(\"div\",class_=\"width-100 ng-star-inserted\").findAll(\"div\",class_=\"fund-grid-container dashed ng-star-inserted\")\n",
        "\n",
        "def return_data_output(data_input):\n",
        "  for pq in data_input[:1]:\n",
        "    s1={}\n",
        "    stats_main_rowD_class=pq.find(\"div\",class_=\"rowD\")\n",
        "    class1_sub_columnD_first=stats_main_rowD_class.find(\"div\",class_=\"columnD first\")\n",
        "\n",
        "    descp=class1_sub_columnD_first.find(\"h4\",class_=\"center-align white-back-imp pad-tb no-margin light-bold\").text\n",
        "    descp=descp+ \"\\n\" + class1_sub_columnD_first.find(\"p\",class_=\"left-align-imp white-back-imp ng-star-inserted\").text\n",
        "    table_class_data=class1_sub_columnD_first.find(\"table\",class_=\"fund-table-grid-ret no-row-diff ng-star-inserted\")\n",
        "    header_value=[]\n",
        "    table_header=table_class_data.find(\"thead\")\n",
        "    data = [[td.findChildren(text=True) for td in tr.findAll(\"th\",class_=\"light-bold\")] for tr in table_header]\n",
        "    for i in data:\n",
        "      for y in i:\n",
        "        \n",
        "        header_value.append(y[0])\n",
        "    \n",
        "    table_data=table_class_data.find(\"tbody\")\n",
        "    rows=table_data.findAll('tr',class_='ng-star-inserted')\n",
        "    \n",
        "    data = [[td.findChildren(text=True) for td in tr.findAll(\"td\",class_=\"ng-star-inserted\")] for tr in rows]\n",
        "    \n",
        "    table_Data_list=[]\n",
        "    for i in data[1:]:\n",
        "      s1={}\n",
        "      \n",
        "      if len(i)!=0:\n",
        "        s1[header_value[0]]=i[0][0].strip()\n",
        "        \n",
        "        if i[1][0]==' ':\n",
        "          s1[header_value[1]]=None\n",
        "        else:\n",
        "          s1[header_value[1]]=i[1][0].strip()\n",
        "        \n",
        "      table_Data_list.append(s1)\n",
        "    \n",
        "  return table_Data_list\n",
        "\n",
        "return_data_output(x1)"
      ],
      "execution_count": 14,
      "outputs": [
        {
          "output_type": "execute_result",
          "data": {
            "text/plain": [
              "[{'Duration': '3 Month', 'Returns': '-22.6%'},\n",
              " {'Duration': '6 Month', 'Returns': '-21.1%'},\n",
              " {'Duration': '1 Year', 'Returns': '-22.1%'},\n",
              " {'Duration': '3 Year', 'Returns': '-4.1%'},\n",
              " {'Duration': '5 Year', 'Returns': '0%'},\n",
              " {'Duration': '10 Year', 'Returns': None},\n",
              " {'Duration': '15 Year', 'Returns': None},\n",
              " {'Duration': 'Since launch', 'Returns': None}]"
            ]
          },
          "metadata": {
            "tags": []
          },
          "execution_count": 14
        }
      ]
    },
    {
      "cell_type": "code",
      "metadata": {
        "id": "FeuqYEDDj5F4",
        "colab_type": "code",
        "outputId": "e69a7964-5bc0-40f0-dd80-f1d5703bf1cb",
        "colab": {
          "base_uri": "https://localhost:8080/",
          "height": 170
        }
      },
      "source": [
        "\n",
        "\n",
        "# for know only historical \n",
        "\n",
        "\n",
        "x1=soup.find(\"div\",class_=\"width-100 ng-star-inserted\").findAll(\"div\",class_=\"fund-grid-container dashed ng-star-inserted\")\n",
        "\n",
        "def historical_Data_output(data_input):\n",
        "  for pq in data_input[:1]:\n",
        "    s1={}\n",
        "    stats_main_rowD_class=pq.find(\"div\",class_=\"rowD\")\n",
        "    class1_sub_columnD_first=stats_main_rowD_class.find(\"div\",class_=\"columnD first\")\n",
        "\n",
        "    descp=class1_sub_columnD_first.find(\"h5\",class_=\"left-align-imp white-back-imp pad-t no-margin light-bold ng-star-inserted\").text\n",
        "\n",
        "\n",
        "    table_class_data=class1_sub_columnD_first.findAll(\"table\",class_=\"fund-table-grid-ret no-row-diff ng-star-inserted\")\n",
        "    for xyz in table_class_data[1:]:\n",
        "\n",
        "\n",
        "      header_value=[]\n",
        "      table_header=xyz.find(\"thead\")\n",
        "      data = [[td.findChildren(text=True) for td in tr.findAll(\"th\",class_=\"light-bold\")] for tr in table_header]\n",
        "      for i in data:\n",
        "        for y in i:\n",
        "\n",
        "          header_value.append(y[0])\n",
        "\n",
        "      table_data=xyz.find(\"tbody\")\n",
        "      rows=table_data.findAll('tr',class_='ng-star-inserted')\n",
        "      \n",
        "      data = [[td.findChildren(text=True) for td in tr.findAll(\"td\",class_=\"ng-star-inserted\")] for tr in rows]\n",
        "      \n",
        "      table_Data_list=[]\n",
        "      for i in data[1:]:\n",
        "        s1={}\n",
        "        \n",
        "        if len(i)!=0:\n",
        "          s1[header_value[0]]=i[0][0].strip()\n",
        "          \n",
        "          if i[1][0]==' ':\n",
        "            s1[header_value[1]]=None\n",
        "          else:\n",
        "            s1[header_value[1]]=i[1][0].strip()\n",
        "          \n",
        "        table_Data_list.append(s1)\n",
        "      \n",
        "    return table_Data_list\n",
        "\n",
        "historical_Data_output(x1)"
      ],
      "execution_count": 15,
      "outputs": [
        {
          "output_type": "execute_result",
          "data": {
            "text/plain": [
              "[{'Returns': '-3.4%', 'Year': '2018'},\n",
              " {'Returns': '28.9%', 'Year': '2017'},\n",
              " {'Returns': '3.4%', 'Year': '2016'},\n",
              " {'Returns': '-3.9%', 'Year': '2015'},\n",
              " {'Returns': '31.2%', 'Year': '2014'},\n",
              " {'Returns': '7.7%', 'Year': '2013'},\n",
              " {'Returns': '27.2%', 'Year': '2012'},\n",
              " {'Returns': '-24.3%', 'Year': '2011'},\n",
              " {'Returns': '17.6%', 'Year': '2010'}]"
            ]
          },
          "metadata": {
            "tags": []
          },
          "execution_count": 15
        }
      ]
    },
    {
      "cell_type": "code",
      "metadata": {
        "id": "dfjMN7Gwj5DK",
        "colab_type": "code",
        "outputId": "558446be-9044-4ae5-97c7-9471f3020096",
        "colab": {
          "base_uri": "https://localhost:8080/",
          "height": 34
        }
      },
      "source": [
        "\n",
        "# fund manager table \n",
        "\n",
        "x1=soup.find(\"div\",class_=\"width-100 ng-star-inserted\").findAll(\"div\",class_=\"fund-grid-container dashed ng-star-inserted\")\n",
        "\n",
        "def find_fund_manager(data_input):\n",
        "  for pq in data_input[:1]:\n",
        "    s1={}\n",
        "    stats_main_rowD_class=pq.find(\"div\",class_=\"rowD\")\n",
        "    class1_sub_columnD_first=stats_main_rowD_class.find(\"div\",class_=\"columnD first\")\n",
        "\n",
        "    descp=class1_sub_columnD_first.find(\"h5\",class_=\"left-align-imp white-back-imp pad-t no-margin light-bold ng-star-inserted\").text\n",
        "\n",
        "    table_class_data=class1_sub_columnD_first.findAll(\"table\",class_=\"fund-table-grid-manager no-row-diff ng-star-inserted\")\n",
        "    for xyz in table_class_data:\n",
        "\n",
        "      header_value=[]\n",
        "      table_header=xyz.find(\"thead\")\n",
        "      data = [[td.findChildren(text=True) for td in tr.findAll(\"th\",class_=\"light-bold\")] for tr in table_header]\n",
        "      for i in data:\n",
        "        for y in i:\n",
        "\n",
        "          header_value.append(y[0])\n",
        "\n",
        "      table_data=xyz.find(\"tbody\")\n",
        "      rows=table_data.findAll('tr',class_='ng-star-inserted')\n",
        "\n",
        "      data=[]\n",
        "      for tr in rows:\n",
        "        for td in tr.findAll(\"td\"):\n",
        "\n",
        "          data.append(td.text)\n",
        "\n",
        "      table_Data_list=[]\n",
        "      s1={}\n",
        "      s1[header_value[0]]=data[0]\n",
        "      s1[header_value[1]]=data[1]\n",
        "      s1[header_value[2]]=data[2]\n",
        "\n",
        "\n",
        "      table_Data_list.append(s1)\n",
        "\n",
        "    return table_Data_list\n",
        "\n",
        "find_fund_manager(x1)"
      ],
      "execution_count": 16,
      "outputs": [
        {
          "output_type": "execute_result",
          "data": {
            "text/plain": [
              "[{'Name': 'Rajat Jain', 'Since': '21 Aug 15', 'Tenure': '4.36 Yr.'}]"
            ]
          },
          "metadata": {
            "tags": []
          },
          "execution_count": 16
        }
      ]
    },
    {
      "cell_type": "code",
      "metadata": {
        "id": "8fHvkFaxj4_A",
        "colab_type": "code",
        "outputId": "30877771-c1b0-4fc8-b960-8e233afbfc87",
        "colab": {
          "base_uri": "https://localhost:8080/",
          "height": 51
        }
      },
      "source": [
        "# assest allocation\n",
        "\n",
        "\n",
        "\n",
        "x1=soup.find(\"div\",class_=\"width-100 ng-star-inserted\").findAll(\"div\",class_=\"fund-grid-container dashed ng-star-inserted\")\n",
        "\n",
        "def find_Assest_Allocation(data_input):\n",
        "  for pq in data_input[:1]:\n",
        "    s1={}\n",
        "    x=pq.find(\"div\",class_=\"rowD\")\n",
        "    class1_sub_columnD=x.findAll(\"div\",class_=\"columnD\")\n",
        "    class1_sub_columnD=class1_sub_columnD[1]\n",
        "    \n",
        "    test=class1_sub_columnD.find(\"app-fund-data-asset-allocation\").find(\"div\",class_=\"fund-grid-container no-pad ng-star-inserted\")\n",
        "    table_class_data=test.findAll(\"table\",class_=\"fund-table-grid-alloc no-row-diff\")\n",
        "    for xyz in table_class_data:\n",
        "\n",
        "      header_value=[]\n",
        "      table_header=xyz.find(\"thead\")\n",
        "      data = [[td.findChildren(text=True) for td in tr.findAll(\"th\",class_=\"light-bold\")] for tr in table_header]\n",
        "      for i in data:\n",
        "        for y in i:\n",
        "          \n",
        "          header_value.append(y[0])\n",
        "      table_data=xyz.find(\"tbody\")\n",
        "      rows=table_data.findAll('tr',class_='ng-star-inserted')\n",
        "      final_table_data=[]\n",
        "      for tr in rows:\n",
        "        s1={}\n",
        "        table_data=[]\n",
        "        for td in tr.findAll(\"td\"):\n",
        "          table_data.append(td.text)\n",
        "\n",
        "        s1[\"Asset_Class\"]=table_data[0]\n",
        "        s1[header_value[1]]=table_data[1]\n",
        "      \n",
        "\n",
        "        final_table_data.append(s1)\n",
        "      \n",
        "    return final_table_data\n",
        "\n",
        "\n",
        "\n",
        "find_Assest_Allocation(x1)"
      ],
      "execution_count": 17,
      "outputs": [
        {
          "output_type": "execute_result",
          "data": {
            "text/plain": [
              "[{'Asset_Class': 'Cash', 'Value': '0.79%'},\n",
              " {'Asset_Class': 'Equity', 'Value': '99.21%'}]"
            ]
          },
          "metadata": {
            "tags": []
          },
          "execution_count": 17
        }
      ]
    },
    {
      "cell_type": "code",
      "metadata": {
        "id": "LqgKmrk9j47w",
        "colab_type": "code",
        "colab": {}
      },
      "source": [
        "# top security portfoilio\n",
        "\n",
        "from pprint import pprint\n",
        "x1=soup.find(\"div\",class_=\"width-100 ng-star-inserted\").findAll(\"div\",class_=\"fund-grid-container dashed ng-star-inserted\")\n",
        "def find_portfolio_details(data_input):\n",
        "\n",
        "  for pq in data_input[:1]:\n",
        "    s1={}\n",
        "    x=pq.find(\"div\",class_=\"rowD\")\n",
        "\n",
        "    class1_sub_columnD=x.findAll(\"div\",class_=\"columnD\")\n",
        "    class1_sub_columnD=class1_sub_columnD[1]\n",
        "\n",
        "    \n",
        "    test=class1_sub_columnD.find(\"app-fund-data-holdings\").find(\"div\",class_=\"fund-grid-container no-pad ng-star-inserted\")\n",
        "    table_class_data=test.findAll(\"table\",class_=\"fund-table-grid-hold no-row-diff\")\n",
        "    for xyz in table_class_data:\n",
        "\n",
        "      header_value=[]\n",
        "      table_header=xyz.find(\"thead\")\n",
        "      data = [[td.findChildren(text=True) for td in tr.findAll(\"th\",class_=\"light-bold\")] for tr in table_header]\n",
        "      for i in data:\n",
        "        for y in i:\n",
        "\n",
        "          header_value.append(y[0])\n",
        "      table_data=xyz.find(\"tbody\")\n",
        "      \n",
        "      rows=table_data.findAll('tr',class_='ng-star-inserted')\n",
        "      \n",
        "      final_table_data=[]\n",
        "      for tr in rows:\n",
        "        s1={}\n",
        "      \n",
        "        table_data=[]\n",
        "        for td in tr.findAll(\"td\"):\n",
        "          table_data.append(td.text)\n",
        "\n",
        "      \n",
        "        s1[header_value[0]]=table_data[0]\n",
        "        s1[header_value[1]]=table_data[1]\n",
        "        s1[header_value[2]]=table_data[2]\n",
        "        s1[header_value[3]]=table_data[3]\n",
        "      \n",
        "\n",
        "        final_table_data.append(s1)\n",
        "      \n",
        "      \n",
        "    return final_table_data\n",
        "\n",
        "# find_portfolio_details(x1)\n",
        "  "
      ],
      "execution_count": 0,
      "outputs": []
    },
    {
      "cell_type": "code",
      "metadata": {
        "id": "TCfUhv3zW4vm",
        "colab_type": "code",
        "colab": {}
      },
      "source": [
        "def find_key_inform(data_value):\n",
        "  table=data_value.find(\"table\", class_=\"fund-table-grid border basicData float-left\")\n",
        "  rows=table.findAll('tr',class_='ng-star-inserted')\n",
        "  data = [[td.findChildren(text=True) for td in tr.findAll(\"td\")] for tr in rows]\n",
        "  find_key_inform={}\n",
        "  for i in data[1:]:\n",
        "    if len(i)!=0:\n",
        "      find_key_inform[i[0][0]]=remove_unwanted(i[1])\n",
        "  \n",
        "  return find_key_inform"
      ],
      "execution_count": 0,
      "outputs": []
    },
    {
      "cell_type": "code",
      "metadata": {
        "id": "8sRqXKaVAHv3",
        "colab_type": "code",
        "colab": {}
      },
      "source": [
        "final_output=[]\n",
        "x1=soup.find(\"div\",class_=\"width-100 ng-star-inserted\").findAll(\"div\",class_=\"fund-grid-container dashed ng-star-inserted\")\n",
        "for pq in x1:\n",
        "  s1={}\n",
        "  \n",
        "  # method to extract the list or index of the points\n",
        "  title=pq.find(\"h3\").text\n",
        "  s1[\"title\"]=title.strip(title[:3])\n",
        "\n",
        "  # Descrbtion of the points \n",
        "  desc=pq.find(\"p\", class_=\"bq-class\").text\n",
        "  \n",
        "  s1[\"description\"]=desc\n",
        "  s1[\"key_information\"]=find_key_inform(pq)\n",
        "  s1[\"Growth_of_10000_investment_over_the_years\"]=growth_table([pq])\n",
        "  s1[\"Returns_data\"]=return_data_output([pq])\n",
        "  s1[\"Historical_data\"]=historical_Data_output([pq])\n",
        "  s1[\"fund_manager_Details\"]=find_fund_manager([pq])\n",
        "  s1[\"Assest_Allocation_Details\"]=find_Assest_Allocation([pq])\n",
        "  s1[\"portfolio_Details\"]=find_portfolio_details([pq])\n",
        "  final_output.append(s1)\n",
        "# print(final_output)"
      ],
      "execution_count": 0,
      "outputs": []
    },
    {
      "cell_type": "code",
      "metadata": {
        "id": "wged7oMpAHuT",
        "colab_type": "code",
        "colab": {}
      },
      "source": [
        "# for i in final_output[:1]:\n",
        "#   pprint(i)"
      ],
      "execution_count": 0,
      "outputs": []
    },
    {
      "cell_type": "code",
      "metadata": {
        "id": "j2Dql5yDAHrV",
        "colab_type": "code",
        "colab": {}
      },
      "source": [
        "newline_string=\"\"\n",
        "import json\n",
        "for i in final_output:\n",
        "   newline_string=newline_string + json.dumps(i) + \"\\n\"\n",
        "\n",
        "# print(newline_string)"
      ],
      "execution_count": 0,
      "outputs": []
    },
    {
      "cell_type": "code",
      "metadata": {
        "id": "FXip29UiAHoO",
        "colab_type": "code",
        "colab": {}
      },
      "source": [
        "# saving to a file \n",
        "f = open(\"demofile2.json\", \"w+\")\n",
        "f.write(newline_string)\n",
        "f.close()"
      ],
      "execution_count": 0,
      "outputs": []
    },
    {
      "cell_type": "code",
      "metadata": {
        "id": "v-NoEqcnAHl3",
        "colab_type": "code",
        "colab": {}
      },
      "source": [
        "import pandas as pd  "
      ],
      "execution_count": 0,
      "outputs": []
    },
    {
      "cell_type": "code",
      "metadata": {
        "id": "4ekPQJeib27V",
        "colab_type": "code",
        "colab": {}
      },
      "source": [
        "# Creates DataFrame.  \n",
        "df = pd.DataFrame(final_output) "
      ],
      "execution_count": 0,
      "outputs": []
    },
    {
      "cell_type": "code",
      "metadata": {
        "id": "jkP6bwaTb24f",
        "colab_type": "code",
        "outputId": "8b70e695-36b2-4c64-d959-ee5191ecc44a",
        "colab": {
          "base_uri": "https://localhost:8080/",
          "height": 974
        }
      },
      "source": [
        "df"
      ],
      "execution_count": 26,
      "outputs": [
        {
          "output_type": "execute_result",
          "data": {
            "text/html": [
              "<div>\n",
              "<style scoped>\n",
              "    .dataframe tbody tr th:only-of-type {\n",
              "        vertical-align: middle;\n",
              "    }\n",
              "\n",
              "    .dataframe tbody tr th {\n",
              "        vertical-align: top;\n",
              "    }\n",
              "\n",
              "    .dataframe thead th {\n",
              "        text-align: right;\n",
              "    }\n",
              "</style>\n",
              "<table border=\"1\" class=\"dataframe\">\n",
              "  <thead>\n",
              "    <tr style=\"text-align: right;\">\n",
              "      <th></th>\n",
              "      <th>title</th>\n",
              "      <th>description</th>\n",
              "      <th>key_information</th>\n",
              "      <th>Growth_of_10000_investment_over_the_years</th>\n",
              "      <th>Returns_data</th>\n",
              "      <th>Historical_data</th>\n",
              "      <th>fund_manager_Details</th>\n",
              "      <th>Assest_Allocation_Details</th>\n",
              "      <th>portfolio_Details</th>\n",
              "    </tr>\n",
              "  </thead>\n",
              "  <tbody>\n",
              "    <tr>\n",
              "      <th>0</th>\n",
              "      <td>Principal Nifty 100 Equal Weight Fund</td>\n",
              "      <td>Principal Nifty 100 Equal Weight Fund is a Ot...</td>\n",
              "      <td>{'Launch Date ': ' 27 Jul 99 ', 'NAV (29 Apr 2...</td>\n",
              "      <td>[{'Date': '31 Mar 15', 'Value': '₹10,000'}, {'...</td>\n",
              "      <td>[{'Duration': '3 Month', 'Returns': '-22.6%'},...</td>\n",
              "      <td>[{'Year': '2018', 'Returns': '-3.4%'}, {'Year'...</td>\n",
              "      <td>[{'Name': 'Rajat Jain', 'Since': '21 Aug 15', ...</td>\n",
              "      <td>[{'Asset_Class': 'Cash', 'Value': '0.79%'}, {'...</td>\n",
              "      <td>[{'Name': ' The New India Assurance Co Ltd (Fi...</td>\n",
              "    </tr>\n",
              "    <tr>\n",
              "      <th>1</th>\n",
              "      <td>ICICI Prudential Nifty Index Fund</td>\n",
              "      <td>ICICI Prudential Nifty Index Fund is a Others...</td>\n",
              "      <td>{'Launch Date ': ' 26 Feb 02 ', 'NAV (29 Apr 2...</td>\n",
              "      <td>[{'Date': '31 Mar 15', 'Value': '₹10,000'}, {'...</td>\n",
              "      <td>[{'Duration': '3 Month', 'Returns': '-21.1%'},...</td>\n",
              "      <td>[{'Year': '2018', 'Returns': '3.4%'}, {'Year':...</td>\n",
              "      <td>[{'Name': 'Kayzad Eghlim', 'Since': '1 Aug 09'...</td>\n",
              "      <td>[{'Asset_Class': 'Cash', 'Value': '0.98%'}, {'...</td>\n",
              "      <td>[{'Name': ' Reliance Industries Ltd (Energy)Eq...</td>\n",
              "    </tr>\n",
              "    <tr>\n",
              "      <th>2</th>\n",
              "      <td>UTI Nifty Index Fund</td>\n",
              "      <td>UTI Nifty Index Fund is a Others - Index Fund...</td>\n",
              "      <td>{'Launch Date ': ' 6 Mar 00 ', 'NAV (29 Apr 20...</td>\n",
              "      <td>[{'Date': '31 Mar 15', 'Value': '₹10,000'}, {'...</td>\n",
              "      <td>[{'Duration': '3 Month', 'Returns': '-21.3%'},...</td>\n",
              "      <td>[{'Year': '2018', 'Returns': '4.3%'}, {'Year':...</td>\n",
              "      <td>[{'Name': 'Sharwan Kumar Goyal', 'Since': '1 M...</td>\n",
              "      <td>[{'Asset_Class': 'Equity', 'Value': '100.19%'}]</td>\n",
              "      <td>[{'Name': ' HDFC Bank Ltd (Financial Services)...</td>\n",
              "    </tr>\n",
              "    <tr>\n",
              "      <th>3</th>\n",
              "      <td>IDFC Nifty Fund</td>\n",
              "      <td>IDFC Nifty Fund is a Others - Index Fund fund...</td>\n",
              "      <td>{'Launch Date ': ' 30 Apr 10 ', 'NAV (29 Apr 2...</td>\n",
              "      <td>[{'Date': '31 Mar 15', 'Value': '₹10,000'}, {'...</td>\n",
              "      <td>[{'Duration': '3 Month', 'Returns': '-20.4%'},...</td>\n",
              "      <td>[{'Year': '2018', 'Returns': '4.4%'}, {'Year':...</td>\n",
              "      <td>[{'Name': 'Arpit Kapoor', 'Since': '1 Mar 17',...</td>\n",
              "      <td>[{'Asset_Class': 'Cash', 'Value': '0.62%'}, {'...</td>\n",
              "      <td>[{'Name': ' HDFC Bank Ltd (Financial Services)...</td>\n",
              "    </tr>\n",
              "    <tr>\n",
              "      <th>4</th>\n",
              "      <td>Franklin India Index Fund Nifty Plan</td>\n",
              "      <td>Franklin India Index Fund Nifty Plan is a Oth...</td>\n",
              "      <td>{'Launch Date ': ' 4 Aug 00 ', 'NAV (29 Apr 20...</td>\n",
              "      <td>[{'Date': '31 Mar 15', 'Value': '₹10,000'}, {'...</td>\n",
              "      <td>[{'Duration': '3 Month', 'Returns': '-21.1%'},...</td>\n",
              "      <td>[{'Year': '2018', 'Returns': '3.2%'}, {'Year':...</td>\n",
              "      <td>[{'Name': 'Varun Sharma', 'Since': '30 Nov 15'...</td>\n",
              "      <td>[{'Asset_Class': 'Equity', 'Value': '98.65%'},...</td>\n",
              "      <td>[{'Name': ' HDFC Bank Ltd (Financial Services)...</td>\n",
              "    </tr>\n",
              "    <tr>\n",
              "      <th>5</th>\n",
              "      <td>SBI Nifty Index Fund</td>\n",
              "      <td>SBI Nifty Index Fund is a Others - Index Fund...</td>\n",
              "      <td>{'Launch Date ': ' 17 Jan 02 ', 'NAV (29 Apr 2...</td>\n",
              "      <td>[{'Date': '31 Mar 15', 'Value': '₹10,000'}, {'...</td>\n",
              "      <td>[{'Duration': '3 Month', 'Returns': '-21.6%'},...</td>\n",
              "      <td>[{'Year': '2018', 'Returns': '3.8%'}, {'Year':...</td>\n",
              "      <td>[{'Name': 'Raviprakash Sharma', 'Since': '1 Fe...</td>\n",
              "      <td>[{'Asset_Class': 'Cash', 'Value': '2.95%'}, {'...</td>\n",
              "      <td>[{'Name': ' HDFC Bank Ltd (Financial Services)...</td>\n",
              "    </tr>\n",
              "    <tr>\n",
              "      <th>6</th>\n",
              "      <td>IDBI Nifty Index Fund</td>\n",
              "      <td>IDBI Nifty Index Fund is a Others - Index Fun...</td>\n",
              "      <td>{'Launch Date ': ' 25 Jun 10 ', 'NAV (29 Apr 2...</td>\n",
              "      <td>[{'Date': '31 Mar 15', 'Value': '₹10,000'}, {'...</td>\n",
              "      <td>[{'Duration': '3 Month', 'Returns': '-21.3%'},...</td>\n",
              "      <td>[{'Year': '2018', 'Returns': '2.8%'}, {'Year':...</td>\n",
              "      <td>[{'Name': 'Firdaus Ragina', 'Since': '9 Oct 18...</td>\n",
              "      <td>[{'Asset_Class': 'Cash', 'Value': '0.33%'}, {'...</td>\n",
              "      <td>[{'Name': ' HDFC Bank Ltd (Financial Services)...</td>\n",
              "    </tr>\n",
              "    <tr>\n",
              "      <th>7</th>\n",
              "      <td>Nippon India Index Fund - Nifty Plan</td>\n",
              "      <td>Nippon India Index Fund - Nifty Plan is a Oth...</td>\n",
              "      <td>{'Launch Date ': ' 28 Sep 10 ', 'NAV (29 Apr 2...</td>\n",
              "      <td>[{'Date': '31 Mar 15', 'Value': '₹10,000'}, {'...</td>\n",
              "      <td>[{'Duration': '3 Month', 'Returns': '-21.4%'},...</td>\n",
              "      <td>[{'Year': '2018', 'Returns': '3.5%'}, {'Year':...</td>\n",
              "      <td>[{'Name': 'Mehul Dama', 'Since': '6 Nov 18', '...</td>\n",
              "      <td>[{'Asset_Class': 'Cash', 'Value': '6.46%'}, {'...</td>\n",
              "      <td>[{'Name': ' HDFC Bank Ltd (Financial Services)...</td>\n",
              "    </tr>\n",
              "    <tr>\n",
              "      <th>8</th>\n",
              "      <td>LIC MF Index Fund Nifty</td>\n",
              "      <td>LIC MF Index Fund Nifty is a Others - Index F...</td>\n",
              "      <td>{'Launch Date ': ' 14 Nov 02 ', 'NAV (29 Apr 2...</td>\n",
              "      <td>[{'Date': '31 Mar 15', 'Value': '₹10,000'}, {'...</td>\n",
              "      <td>[{'Duration': '3 Month', 'Returns': '-21.2%'},...</td>\n",
              "      <td>[{'Year': '2018', 'Returns': '2.6%'}, {'Year':...</td>\n",
              "      <td>[{'Name': 'Ritu Modi', 'Since': '1 Nov 19', 'T...</td>\n",
              "      <td>[{'Asset_Class': 'Cash', 'Value': '2.18%'}, {'...</td>\n",
              "      <td>[{'Name': ' HDFC Bank Ltd (Financial Services)...</td>\n",
              "    </tr>\n",
              "    <tr>\n",
              "      <th>9</th>\n",
              "      <td>ICICI Prudential Nifty Next 50 Index Fund</td>\n",
              "      <td>ICICI Prudential Nifty Next 50 Index Fund is ...</td>\n",
              "      <td>{'Launch Date ': ' 25 Jun 10 ', 'NAV (29 Apr 2...</td>\n",
              "      <td>[{'Date': '31 Mar 15', 'Value': '₹10,000'}, {'...</td>\n",
              "      <td>[{'Duration': '3 Month', 'Returns': '-18.8%'},...</td>\n",
              "      <td>[{'Year': '2018', 'Returns': '-8.8%'}, {'Year'...</td>\n",
              "      <td>[{'Name': 'Kayzad Eghlim', 'Since': '25 Jun 10...</td>\n",
              "      <td>[{'Asset_Class': 'Cash', 'Value': '0.19%'}, {'...</td>\n",
              "      <td>[{'Name': ' Avenue Supermarts Ltd (Consumer De...</td>\n",
              "    </tr>\n",
              "  </tbody>\n",
              "</table>\n",
              "</div>"
            ],
            "text/plain": [
              "                                        title  ...                                  portfolio_Details\n",
              "0       Principal Nifty 100 Equal Weight Fund  ...  [{'Name': ' The New India Assurance Co Ltd (Fi...\n",
              "1           ICICI Prudential Nifty Index Fund  ...  [{'Name': ' Reliance Industries Ltd (Energy)Eq...\n",
              "2                        UTI Nifty Index Fund  ...  [{'Name': ' HDFC Bank Ltd (Financial Services)...\n",
              "3                             IDFC Nifty Fund  ...  [{'Name': ' HDFC Bank Ltd (Financial Services)...\n",
              "4        Franklin India Index Fund Nifty Plan  ...  [{'Name': ' HDFC Bank Ltd (Financial Services)...\n",
              "5                        SBI Nifty Index Fund  ...  [{'Name': ' HDFC Bank Ltd (Financial Services)...\n",
              "6                       IDBI Nifty Index Fund  ...  [{'Name': ' HDFC Bank Ltd (Financial Services)...\n",
              "7        Nippon India Index Fund - Nifty Plan  ...  [{'Name': ' HDFC Bank Ltd (Financial Services)...\n",
              "8                     LIC MF Index Fund Nifty  ...  [{'Name': ' HDFC Bank Ltd (Financial Services)...\n",
              "9   ICICI Prudential Nifty Next 50 Index Fund  ...  [{'Name': ' Avenue Supermarts Ltd (Consumer De...\n",
              "\n",
              "[10 rows x 9 columns]"
            ]
          },
          "metadata": {
            "tags": []
          },
          "execution_count": 26
        }
      ]
    }
  ]
}